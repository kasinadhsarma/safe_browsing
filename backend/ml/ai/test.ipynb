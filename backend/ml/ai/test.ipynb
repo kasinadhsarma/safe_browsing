{
 "cells": [
  {
   "cell_type": "markdown",
   "metadata": {},
   "source": [
    "# Safe Browsing Model Testing Notebook"
   ]
  },
  {
   "cell_type": "code",
   "execution_count": 21,
   "id": "4e818706",
   "metadata": {},
   "outputs": [],
   "source": [
    "# Import necessary libraries\n",
    "import numpy as np\n",
    "import pandas as pd\n",
    "import joblib\n",
    "import os\n",
    "import logging\n",
    "import matplotlib.pyplot as plt\n",
    "from sklearn.model_selection import train_test_split\n",
    "from sklearn.preprocessing import StandardScaler\n",
    "from sklearn.metrics import accuracy_score, precision_score, recall_score, f1_score\n",
    "from sklearn.neighbors import KNeighborsClassifier\n",
    "from sklearn.svm import SVC\n",
    "from sklearn.naive_bayes import GaussianNB\n",
    "\n",
    "# Import local modules using absolute imports\n",
    "import sys\n",
    "sys.path.append('/home/kasinadhsarma/safe_browsing/backend/ml/ai')\n",
    "from dataset import generate_dataset, extract_url_features\n",
    "from training import balance_dataset, evaluate_model, train_models, generate_evaluation_report, calculate_age_based_risk, ensemble_predict\n",
    "\n",
    "# Configure logging\n",
    "logging.basicConfig(level=logging.INFO, format='%(asctime)s - %(levelname)s - %(message)s')"
   ]
  },
  {
   "cell_type": "markdown",
   "id": "38d3687c",
   "metadata": {},
   "source": [
    "## Load and Prepare Dataset"
   ]
  },
  {
   "cell_type": "code",
   "execution_count": 22,
   "id": "aeb1ce43",
   "metadata": {},
   "outputs": [],
   "source": [
    "# Generate dataset\n",
    "df = generate_dataset()\n",
    "if df.empty:\n",
    "    raise ValueError(\"Empty dataset generated\")\n",
    "\n",
    "# Ensure all required columns exist in the DataFrame\n",
    "feature_cols = [\n",
    "    # Basic features\n",
    "    'length', 'num_dots', 'num_digits', 'num_special', 'entropy',\n",
    "    'token_count', 'avg_token_length', 'max_token_length', 'min_token_length',\n",
    "    # Domain features\n",
    "    'domain_length', 'has_subdomain', 'has_www', 'domain_entropy',\n",
    "    'is_ip_address', 'domain_digit_ratio', 'domain_special_ratio',\n",
    "    'domain_uppercase_ratio',\n",
    "    # Path features\n",
    "    'path_length', 'num_directories', 'path_entropy', 'has_double_slash',\n",
    "    'directory_length_mean', 'directory_length_max', 'directory_length_min',\n",
    "    'path_special_ratio',\n",
    "    # Query features\n",
    "    'num_params', 'query_length', 'has_suspicious_params',\n",
    "    'param_entropy', 'param_special_ratio',\n",
    "    # Security features\n",
    "    'has_https', 'has_port', 'suspicious_tld', 'has_fragment',\n",
    "    'has_redirect', 'has_obfuscation',\n",
    "    # Content indicators\n",
    "    'has_suspicious_words', 'suspicious_word_count', 'suspicious_word_ratio',\n",
    "    'has_executable', 'has_archive',\n",
    "    # Age-specific features\n",
    "    'kid_unsafe_words', 'teen_unsafe_words', 'kid_unsafe_ratio',\n",
    "    'teen_unsafe_ratio', 'kid_unsafe_score', 'teen_unsafe_score'\n",
    "]\n",
    "\n",
    "# Initialize missing columns with 0\n",
    "for col in feature_cols:\n",
    "    if col not in df.columns:\n",
    "        df[col] = 0\n",
    "\n",
    "X = df[feature_cols].values\n",
    "y = df['is_blocked'].values\n",
    "\n",
    "# Balance dataset\n",
    "X_balanced, y_balanced = balance_dataset(X, y)\n",
    "\n",
    "# Split dataset\n",
    "X_train, X_test, y_train, y_test = train_test_split(X_balanced, y_balanced, test_size=0.2, random_state=42)\n",
    "\n",
    "# Scale features\n",
    "scaler = StandardScaler()\n",
    "X_train_scaled = scaler.fit_transform(X_train)\n",
    "X_test_scaled = scaler.transform(X_test)\n",
    "\n",
    "logging.info(\"Dataset prepared and features scaled.\")"
   ]
  },
  {
   "cell_type": "markdown",
   "id": "2638b578",
   "metadata": {},
   "source": [
    "## Train Models"
   ]
  },
  {
   "cell_type": "code",
   "execution_count": null,
   "id": "081c17bc",
   "metadata": {},
   "outputs": [],
   "source": [
    "# Train models\n",
    "models = train_models()\n",
    "if models is None:\n",
    "    logging.error(\"Model training failed.\")\n",
    "else:\n",
    "    logging.info(\"Models trained successfully.\")"
   ]
  },
  {
   "cell_type": "markdown",
   "id": "96771c10",
   "metadata": {},
   "source": [
    "## Evaluate Models"
   ]
  },
  {
   "cell_type": "code",
   "execution_count": null,
   "id": "7229faf3",
   "metadata": {},
   "outputs": [],
   "source": [
    "# Evaluate models\n",
    "if models:\n",
    "    for model_name, model_data in models.items():\n",
    "        y_pred = model_data['model'].predict(X_test_scaled)\n",
    "        metrics = evaluate_model(y_test, y_pred, model_name)\n",
    "        logging.info(f\"{model_name} Metrics: {metrics}\")\n",
    "\n",
    "        # Visualize model performance metrics\n",
    "        plt.figure(figsize=(8, 6))\n",
    "        plt.bar(['Accuracy', 'Precision', 'Recall', 'F1'], \n",
    "                [metrics['accuracy'], metrics['precision'], \n",
    "                 metrics['recall'], metrics['f1']])\n",
    "        plt.title(f'{model_name} Performance Metrics')\n",
    "        plt.ylim(0, 1)\n",
    "        plt.ylabel('Score')\n",
    "        plt.show()\n",
    "else:\n",
    "    logging.error(\"No models available for evaluation.\")"
   ]
  }
 ],
 "metadata": {
  "kernelspec": {
   "display_name": "Python 3",
   "language": "python",
   "name": "python3"
  },
  "language_info": {
   "codemirror_mode": {
    "name": "ipython",
    "version": 3
   },
   "file_extension": ".py",
   "mimetype": "text/x-python",
   "name": "python",
   "nbconvert_exporter": "python",
   "pygments_lexer": "ipython3",
   "version": "3.10.12"
  }
 },
 "nbformat": 4,
 "nbformat_minor": 5
}
